{
 "cells": [
  {
   "cell_type": "markdown",
   "metadata": {},
   "source": [
    "# Evaluation of Images of Lines from Writer\n",
    "\n",
    "1. Set the DATA_FOLDER\n",
    "2. Set the OUTPUT_FILE_NAME\n",
    "3. Set the CUDA properties\n",
    "4. Run the jupyter cells.\n",
    "\n",
    "Output is in a file called OUTPUT_FILE_NAME in the DATA_FOLDER"
   ]
  },
  {
   "cell_type": "code",
   "execution_count": 1,
   "metadata": {},
   "outputs": [],
   "source": [
    "DATA_FOLDER= '/data/iam_data/words/'\n",
    "OUTPUT_FILE_NAME='words_baseline.csv'"
   ]
  },
  {
   "cell_type": "code",
   "execution_count": 2,
   "metadata": {},
   "outputs": [],
   "source": [
    "with open('/data/iam_data/ascii/forms.txt','r') as fp:\n",
    "    lines = [l for l in fp.readlines() if l[0] != '#']\n",
    "    writer_id = {l[0]:l[1] for l in [x.split(' ') for x in lines]}\n",
    "    \n",
    "with open('/data/iam_data/ascii/words.txt','r') as fp:\n",
    "    lines = [l for l in fp.readlines() if l[0] != '#']\n",
    "    word_id = {l[0]:l[-1].strip() for l in [x.split(' ') for x in lines]}"
   ]
  },
  {
   "cell_type": "code",
   "execution_count": 3,
   "metadata": {},
   "outputs": [],
   "source": [
    "import os\n",
    "os.environ[\"CUDA_DEVICE_ORDER\"] = \"PCI_BUS_ID\" \n",
    "os.environ[\"CUDA_VISIBLE_DEVICES\"]=\"1\"; "
   ]
  },
  {
   "cell_type": "code",
   "execution_count": 4,
   "metadata": {},
   "outputs": [
    {
     "name": "stderr",
     "output_type": "stream",
     "text": [
      "/home/robertsone/HWR/writer_identification/wi/lib/python3.7/site-packages/pandas/compat/__init__.py:120: UserWarning: Could not import the lzma module. Your installed Python is incomplete. Attempting to use lzma compression will result in a RuntimeError.\n",
      "  warnings.warn(msg)\n"
     ]
    }
   ],
   "source": [
    "from __future__ import division\n",
    "import numpy as np\n",
    "import os\n",
    "from keras.utils import to_categorical, np_utils\n",
    "import pandas as pd"
   ]
  },
  {
   "cell_type": "code",
   "execution_count": 5,
   "metadata": {},
   "outputs": [
    {
     "name": "stdout",
     "output_type": "stream",
     "text": [
      "Model: \"sequential\"\n",
      "_________________________________________________________________\n",
      "Layer (type)                 Output Shape              Param #   \n",
      "=================================================================\n",
      "zero_padding2d (ZeroPadding2 (None, 115, 115, 1)       0         \n",
      "_________________________________________________________________\n",
      "conv1 (Conv2D)               (None, 58, 58, 32)        832       \n",
      "_________________________________________________________________\n",
      "activation (Activation)      (None, 58, 58, 32)        0         \n",
      "_________________________________________________________________\n",
      "pool1 (MaxPooling2D)         (None, 29, 29, 32)        0         \n",
      "_________________________________________________________________\n",
      "conv2 (Conv2D)               (None, 29, 29, 64)        18496     \n",
      "_________________________________________________________________\n",
      "activation_1 (Activation)    (None, 29, 29, 64)        0         \n",
      "_________________________________________________________________\n",
      "pool2 (MaxPooling2D)         (None, 14, 14, 64)        0         \n",
      "_________________________________________________________________\n",
      "conv3 (Conv2D)               (None, 14, 14, 128)       73856     \n",
      "_________________________________________________________________\n",
      "activation_2 (Activation)    (None, 14, 14, 128)       0         \n",
      "_________________________________________________________________\n",
      "pool3 (MaxPooling2D)         (None, 7, 7, 128)         0         \n",
      "_________________________________________________________________\n",
      "flatten (Flatten)            (None, 6272)              0         \n",
      "_________________________________________________________________\n",
      "dropout (Dropout)            (None, 6272)              0         \n",
      "_________________________________________________________________\n",
      "dense1 (Dense)               (None, 512)               3211776   \n",
      "_________________________________________________________________\n",
      "activation_3 (Activation)    (None, 512)               0         \n",
      "_________________________________________________________________\n",
      "dropout_1 (Dropout)          (None, 512)               0         \n",
      "_________________________________________________________________\n",
      "dense2 (Dense)               (None, 256)               131328    \n",
      "_________________________________________________________________\n",
      "activation_4 (Activation)    (None, 256)               0         \n",
      "_________________________________________________________________\n",
      "dropout_2 (Dropout)          (None, 256)               0         \n",
      "_________________________________________________________________\n",
      "output (Dense)               (None, 50)                12850     \n",
      "_________________________________________________________________\n",
      "activation_5 (Activation)    (None, 50)                0         \n",
      "=================================================================\n",
      "Total params: 3,449,138\n",
      "Trainable params: 3,449,138\n",
      "Non-trainable params: 0\n",
      "_________________________________________________________________\n"
     ]
    }
   ],
   "source": [
    "from model import build_model\n",
    "num_classes = 50\n",
    "model = build_model(num_classes)\n",
    "model.load_weights('writer_id_checkpoint.hdf5')\n",
    "model.summary()"
   ]
  },
  {
   "cell_type": "code",
   "execution_count": 6,
   "metadata": {},
   "outputs": [
    {
     "name": "stdout",
     "output_type": "stream",
     "text": [
      "Model: \"functional_1\"\n",
      "_________________________________________________________________\n",
      "Layer (type)                 Output Shape              Param #   \n",
      "=================================================================\n",
      "zero_padding2d_input (InputL [(None, 113, 113, 1)]     0         \n",
      "_________________________________________________________________\n",
      "zero_padding2d (ZeroPadding2 (None, 115, 115, 1)       0         \n",
      "_________________________________________________________________\n",
      "conv1 (Conv2D)               (None, 58, 58, 32)        832       \n",
      "_________________________________________________________________\n",
      "activation (Activation)      (None, 58, 58, 32)        0         \n",
      "_________________________________________________________________\n",
      "pool1 (MaxPooling2D)         (None, 29, 29, 32)        0         \n",
      "_________________________________________________________________\n",
      "conv2 (Conv2D)               (None, 29, 29, 64)        18496     \n",
      "_________________________________________________________________\n",
      "activation_1 (Activation)    (None, 29, 29, 64)        0         \n",
      "_________________________________________________________________\n",
      "pool2 (MaxPooling2D)         (None, 14, 14, 64)        0         \n",
      "_________________________________________________________________\n",
      "conv3 (Conv2D)               (None, 14, 14, 128)       73856     \n",
      "_________________________________________________________________\n",
      "activation_2 (Activation)    (None, 14, 14, 128)       0         \n",
      "_________________________________________________________________\n",
      "pool3 (MaxPooling2D)         (None, 7, 7, 128)         0         \n",
      "_________________________________________________________________\n",
      "flatten (Flatten)            (None, 6272)              0         \n",
      "_________________________________________________________________\n",
      "dropout (Dropout)            (None, 6272)              0         \n",
      "_________________________________________________________________\n",
      "dense1 (Dense)               (None, 512)               3211776   \n",
      "_________________________________________________________________\n",
      "activation_3 (Activation)    (None, 512)               0         \n",
      "_________________________________________________________________\n",
      "dropout_1 (Dropout)          (None, 512)               0         \n",
      "_________________________________________________________________\n",
      "dense2 (Dense)               (None, 256)               131328    \n",
      "=================================================================\n",
      "Total params: 3,436,288\n",
      "Trainable params: 3,436,288\n",
      "Non-trainable params: 0\n",
      "_________________________________________________________________\n"
     ]
    }
   ],
   "source": [
    "from keras.models import Model\n",
    "model2= Model(inputs=model.input, outputs=model.layers[-5].output)\n",
    "model2.summary()\n",
    "model = None"
   ]
  },
  {
   "cell_type": "code",
   "execution_count": 63,
   "metadata": {},
   "outputs": [],
   "source": [
    "from PIL import Image\n",
    "from random import *\n",
    "import numpy as np\n",
    "\n",
    "def local_prep_sample(image_file_name, slide=55):\n",
    "    \"\"\"\n",
    "    Get a list of slices for the provide image:\n",
    "    generates random crops from each line\n",
    "    \"\"\"\n",
    "    im = Image.open(image_file_name)\n",
    "    im = im.convert('L')\n",
    "    cur_width = im.size[0]\n",
    "    cur_height = im.size[1]\n",
    "\n",
    "                # print(cur_width, cur_height)\n",
    "    height_fac = 113 / cur_height\n",
    "\n",
    "    new_width = int(cur_width * height_fac)\n",
    "    size = new_width, 113\n",
    "\n",
    "    imresize = im.resize((size), Image.ANTIALIAS)  # Resize so height = 113 while keeping aspect ratio\n",
    "    now_width = imresize.size[0]\n",
    "    now_height = imresize.size[1]\n",
    "                # Generate crops of size 113x113 from this resized image and keep random 10% of crops\n",
    "\n",
    "    now_width - 113\n",
    "    pick_num = int(now_width/slide) + 1\n",
    "\n",
    "    im = np.asarray(imresize)\n",
    "    images = None\n",
    "    for start_i in range(pick_num):\n",
    "            start = start_i * slide\n",
    "            if images is None:\n",
    "                if start+113 <= im.shape[1]:\n",
    "                    images = im[:, start:start+113].reshape((1,113,113))\n",
    "            else:\n",
    "                #print (images.shape)\n",
    "                if start+113 > im.shape[1]:\n",
    "                    start -= (113+start-im.shape[1])\n",
    "                im_s = im[:, start:start+113].reshape((1,113,113))\n",
    "                #print (im_s.shape)\n",
    "                images = np.vstack((images,im_s))\n",
    "    return images"
   ]
  },
  {
   "cell_type": "code",
   "execution_count": 64,
   "metadata": {},
   "outputs": [],
   "source": [
    "\n",
    "\n",
    "# get slices of normalized image\n",
    "def generate_predict_data(filename):\n",
    "    image_arrays = local_prep_sample(filename)\n",
    "    if image_arrays is not None:\n",
    "        #reshape image_arrays for feeding in later\n",
    "        image_arrays = image_arrays.reshape(image_arrays.shape[0], 113, 113, 1)\n",
    "        #convert to float and normalize\n",
    "        image_arrays = image_arrays.astype('float32')\n",
    "        image_arrays /= 255\n",
    "\n",
    "    return image_arrays"
   ]
  },
  {
   "cell_type": "code",
   "execution_count": null,
   "metadata": {},
   "outputs": [
    {
     "name": "stdout",
     "output_type": "stream",
     "text": [
      "/data/iam_data/words/\n"
     ]
    }
   ],
   "source": [
    "from scipy import stats\n",
    "    \n",
    "folders = [DATA_FOLDER]\n",
    "for folder in folders:\n",
    "    with open(os.path.join(folder,OUTPUT_FILE_NAME),'w') as fp:\n",
    "        fp.write('filename,word,writer,'  + ','.join([str(i) for i in range(256)])  + '\\n')\n",
    "        print(folder)\n",
    "        for root, dirs, files in os.walk(folder, topdown=False):\n",
    "            for file in files:\n",
    "                if file.endswith('png') or file.endswith('jpg'):\n",
    "                    images = generate_predict_data(os.path.join(root, file))\n",
    "                    if images is not None:\n",
    "                        predictions = model2.predict(images)\n",
    "                        ostr = ','.join([str(x) for x in np.mean(predictions, axis=0)])\n",
    "                        sub = os.path.splitext(file)[0]\n",
    "                        word = word_id[sub]\n",
    "                        writer = writer_id['-'.join(sub.split('-')[:2])]\n",
    "                        fp.write(f'{file},{word},{writer},{ostr}\\n')"
   ]
  },
  {
   "cell_type": "code",
   "execution_count": 57,
   "metadata": {},
   "outputs": [
    {
     "data": {
      "text/plain": [
       "(10, 113, 113, 1)"
      ]
     },
     "execution_count": 57,
     "metadata": {},
     "output_type": "execute_result"
    }
   ],
   "source": [
    "generate_predict_data('/data/iam_data/words/a01/a01-000u/a01-000u-00-01.png').shape"
   ]
  },
  {
   "cell_type": "code",
   "execution_count": null,
   "metadata": {},
   "outputs": [],
   "source": []
  }
 ],
 "metadata": {
  "kernelspec": {
   "display_name": "Python 3",
   "language": "python",
   "name": "python3"
  },
  "language_info": {
   "codemirror_mode": {
    "name": "ipython",
    "version": 3
   },
   "file_extension": ".py",
   "mimetype": "text/x-python",
   "name": "python",
   "nbconvert_exporter": "python",
   "pygments_lexer": "ipython3",
   "version": "3.7.1"
  }
 },
 "nbformat": 4,
 "nbformat_minor": 4
}
