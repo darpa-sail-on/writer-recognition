{
 "cells": [
  {
   "cell_type": "markdown",
   "metadata": {},
   "source": [
    "# Evaluation of Images of Lines from Writer\n",
    "\n",
    "1. Set the DATA_FOLDER\n",
    "2. Set the OUTPUT_FILE_NAME\n",
    "3. Set the CUDA properties\n",
    "4. Run the jupyter cells.\n",
    "\n",
    "Output is in a file called OUTPUT_FILE_NAME in the DATA_FOLDER"
   ]
  },
  {
   "cell_type": "code",
   "execution_count": 1,
   "metadata": {},
   "outputs": [],
   "source": [
    "DATA_FOLDER='/data/ta2_transcripts_drops/all_images/'\n",
    "OUTPUT_FOLDER='/data/ta2_transcripts_drops/'\n",
    "OUTPUT_FILE_NAME='m18_baseline.txt'\n",
    "OUTPUT_PRED_FILE_NAME='m18_baseline_predictions.txt'"
   ]
  },
  {
   "cell_type": "code",
   "execution_count": 2,
   "metadata": {},
   "outputs": [],
   "source": [
    "import os\n",
    "os.environ[\"CUDA_DEVICE_ORDER\"] = \"PCI_BUS_ID\" \n",
    "os.environ[\"CUDA_VISIBLE_DEVICES\"]=\"1\"; "
   ]
  },
  {
   "cell_type": "code",
   "execution_count": 3,
   "metadata": {},
   "outputs": [
    {
     "name": "stderr",
     "output_type": "stream",
     "text": [
      "/home/robertsone/.local/share/virtualenvs/HWR-FO8O3eA5/lib/python3.7/site-packages/pandas/compat/__init__.py:120: UserWarning: Could not import the lzma module. Your installed Python is incomplete. Attempting to use lzma compression will result in a RuntimeError.\n",
      "  warnings.warn(msg)\n"
     ]
    }
   ],
   "source": [
    "from __future__ import division\n",
    "import numpy as np\n",
    "import os\n",
    "from keras.utils import to_categorical, np_utils\n",
    "import pandas as pd"
   ]
  },
  {
   "cell_type": "code",
   "execution_count": 4,
   "metadata": {},
   "outputs": [],
   "source": [
    "from model import build_model\n",
    "num_classes = 50\n",
    "model = build_model(num_classes)"
   ]
  },
  {
   "cell_type": "code",
   "execution_count": 5,
   "metadata": {},
   "outputs": [],
   "source": [
    "model.load_weights('writer_id_checkpoint.hdf5')"
   ]
  },
  {
   "cell_type": "code",
   "execution_count": 6,
   "metadata": {},
   "outputs": [],
   "source": [
    "from data_prep import prep_sample\n",
    "\n",
    "# get slices of normalized image\n",
    "def generate_predict_data(filename):\n",
    "    images = []\n",
    "    targets = []\n",
    "    prep_sample(filename, 0, images, targets)\n",
    "\n",
    "    # trim image slices to only see section with road\n",
    "    image_arrays = np.array(images)\n",
    "\n",
    "    #reshape image_arrays for feeding in later\n",
    "    image_arrays = image_arrays.reshape(image_arrays.shape[0], 113, 113, 1)\n",
    "    #convert to float and normalize\n",
    "    image_arrays = image_arrays.astype('float32')\n",
    "    image_arrays /= 255\n",
    "            \n",
    "    return image_arrays"
   ]
  },
  {
   "cell_type": "code",
   "execution_count": 7,
   "metadata": {},
   "outputs": [
    {
     "name": "stdout",
     "output_type": "stream",
     "text": [
      "155270\n",
      "WARNING:tensorflow:From <ipython-input-7-f9bdfb5d001f>:22: Model.predict_generator (from tensorflow.python.keras.engine.training) is deprecated and will be removed in a future version.\n",
      "Instructions for updating:\n",
      "Please use Model.predict, which supports generators.\n"
     ]
    }
   ],
   "source": [
    "from scipy import stats\n",
    "folder = DATA_FOLDER\n",
    "# do not reprocess existing predicitons.\n",
    "# this allows restart if the program stops mid processing OR new files are added to the source folder\n",
    "if not os.path.exists(os.path.join(OUTPUT_FOLDER,OUTPUT_PRED_FILE_NAME)):\n",
    "        openwith = 'w'\n",
    "else:\n",
    "        openwith = 'r+'\n",
    "with open(os.path.join(OUTPUT_FOLDER,OUTPUT_PRED_FILE_NAME), openwith) as fp_pred:\n",
    "    with open(os.path.join(OUTPUT_FOLDER,OUTPUT_FILE_NAME),openwith) as fp:\n",
    "        if openwith[0] == 'r':\n",
    "            fp_pred.readlines()\n",
    "            ids = set([l.split(',')[0] for l in fp.readlines()])\n",
    "            print(len(ids))\n",
    "        else:\n",
    "            ids = set()\n",
    "        for root, dirs, files in os.walk(folder, topdown=False):\n",
    "                for file in files:\n",
    "                    if file in ids:\n",
    "                        continue\n",
    "                    if file.endswith('png') or file.endswith('jpg'):\n",
    "                        predictions = model.predict_generator(generate_predict_data(os.path.join(root, file)))\n",
    "                        # return multiple predictions using a sliding window over imag\n",
    "                        # two approaches: take the mean or take the highest count argmax.\n",
    "                        # subtle differences.\n",
    "                        mu = np.mean(predictions,axis=0)\n",
    "                        mustring = ','.join(f'{x:0.3f}' for x in mu) \n",
    "                        fp_pred.write(f'{file},{mustring},{0.0}\\n')\n",
    "                        #(cls,cnt) = np.unique(np.argmax(predictions,axis=1), return_counts=True)\n",
    "                        best = np.argmax(mu)#cls[np.argmax(cnt)]\n",
    "                        fp.write(f'{file},{best}\\n')"
   ]
  },
  {
   "cell_type": "code",
   "execution_count": 22,
   "metadata": {},
   "outputs": [
    {
     "data": {
      "text/plain": [
       "array([[1.11110801e-08, 5.07360312e-07, 2.15013701e-11, ...,\n",
       "        1.79138375e-08, 1.23029267e-08, 3.20049026e-06],\n",
       "       [6.78752012e-16, 1.84718647e-12, 4.39766967e-26, ...,\n",
       "        1.33067632e-16, 2.37447284e-20, 9.19422050e-09],\n",
       "       [3.30698385e-11, 3.65128994e-09, 6.36942643e-20, ...,\n",
       "        2.47365791e-11, 1.21281205e-17, 1.00410728e-06],\n",
       "       ...,\n",
       "       [1.58392666e-07, 1.15191324e-04, 6.84207913e-10, ...,\n",
       "        1.67082835e-05, 2.45408867e-08, 1.96581264e-03],\n",
       "       [2.84861240e-12, 1.46530574e-08, 4.21933431e-19, ...,\n",
       "        3.84590363e-12, 2.25955330e-16, 3.58878096e-05],\n",
       "       [1.18628503e-08, 8.58587157e-07, 7.26094261e-13, ...,\n",
       "        5.19203258e-09, 1.38276973e-10, 3.16180594e-05]], dtype=float32)"
      ]
     },
     "execution_count": 22,
     "metadata": {},
     "output_type": "execute_result"
    }
   ],
   "source": [
    "predictions = model.predict_generator(generate_predict_data(os.path.join(root, '5f475c8c-4969-4323-9385-d7aaca7bfaf4.png')))\n",
    "predictions"
   ]
  },
  {
   "cell_type": "code",
   "execution_count": 14,
   "metadata": {},
   "outputs": [
    {
     "data": {
      "text/plain": [
       "'8f0d5a82-5e2e-4ee1-9f89-3080654ffec4.png'"
      ]
     },
     "execution_count": 14,
     "metadata": {},
     "output_type": "execute_result"
    }
   ],
   "source": [
    "file"
   ]
  },
  {
   "cell_type": "code",
   "execution_count": null,
   "metadata": {},
   "outputs": [],
   "source": []
  }
 ],
 "metadata": {
  "kernelspec": {
   "display_name": "Python 3",
   "language": "python",
   "name": "python3"
  },
  "language_info": {
   "codemirror_mode": {
    "name": "ipython",
    "version": 3
   },
   "file_extension": ".py",
   "mimetype": "text/x-python",
   "name": "python",
   "nbconvert_exporter": "python",
   "pygments_lexer": "ipython3",
   "version": "3.7.1"
  }
 },
 "nbformat": 4,
 "nbformat_minor": 4
}
