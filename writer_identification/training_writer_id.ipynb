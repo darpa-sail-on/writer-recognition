{
 "cells": [
  {
   "cell_type": "markdown",
   "metadata": {},
   "source": [
    "# TRAIN WRITER RECOGNITON\n",
    "Requires:\n",
    "\n",
    "1. Folder of images relative to top level folder DATA_FOLDER\n",
    "2. A label file(TRAINING_DATA_FILE) which has at least two comma separated columns: path and ontology_id\n",
    "\n",
    "\n",
    "The ontology_is the numeric writer id from 0 to N-1 for N writers known for training\n",
    "The path is relative to the DATA_FOLDER\n",
    "\n",
    "The training data file may also contain other helpful columns not used in training such as the actual writer name of string id."
   ]
  },
  {
   "cell_type": "code",
   "execution_count": 1,
   "metadata": {},
   "outputs": [],
   "source": [
    "DATA_FOLDER = '/data/iam_data/'\n",
    "#which writers are held out for training\n",
    "MAX_WRITER_ID = 50\n",
    "# training file\n",
    "TRAINING_DATA_FILE = 'anonname_to_filename_mapping_full_path.csv'"
   ]
  },
  {
   "cell_type": "code",
   "execution_count": 2,
   "metadata": {},
   "outputs": [],
   "source": [
    "import os\n",
    "os.environ[\"CUDA_DEVICE_ORDER\"] = \"PCI_BUS_ID\" \n",
    "os.environ[\"CUDA_VISIBLE_DEVICES\"]=\"1\"; \n"
   ]
  },
  {
   "cell_type": "code",
   "execution_count": 3,
   "metadata": {},
   "outputs": [
    {
     "name": "stderr",
     "output_type": "stream",
     "text": [
      "/home/robertsone/HWR/writer_identification/wi/lib/python3.7/site-packages/pandas/compat/__init__.py:120: UserWarning: Could not import the lzma module. Your installed Python is incomplete. Attempting to use lzma compression will result in a RuntimeError.\n",
      "  warnings.warn(msg)\n"
     ]
    }
   ],
   "source": [
    "from __future__ import division\n",
    "import numpy as np\n",
    "import os\n",
    "import glob\n",
    "from keras.utils import to_categorical, np_utils\n",
    "from sklearn.preprocessing import LabelEncoder\n",
    "import matplotlib.pyplot as plt\n",
    "import matplotlib.image as mpimg\n",
    "%matplotlib inline\n",
    "\n",
    "from keras.models import Sequential\n",
    "from keras.layers import Dense, Dropout, Flatten, Lambda, ELU, Activation, BatchNormalization\n",
    "from keras.layers.convolutional import Convolution2D, Cropping2D, ZeroPadding2D, MaxPooling2D\n",
    "from keras.optimizers import SGD, Adam, RMSprop\n",
    "from keras.callbacks import ReduceLROnPlateau\n",
    "from keras.optimizers.schedules import LearningRateSchedule\n",
    "import pandas as pd"
   ]
  },
  {
   "cell_type": "code",
   "execution_count": 4,
   "metadata": {},
   "outputs": [],
   "source": [
    "from model import build_model"
   ]
  },
  {
   "cell_type": "code",
   "execution_count": 5,
   "metadata": {},
   "outputs": [
    {
     "name": "stdout",
     "output_type": "stream",
     "text": [
      "13353\n"
     ]
    },
    {
     "data": {
      "text/html": [
       "<div>\n",
       "<style scoped>\n",
       "    .dataframe tbody tr th:only-of-type {\n",
       "        vertical-align: middle;\n",
       "    }\n",
       "\n",
       "    .dataframe tbody tr th {\n",
       "        vertical-align: top;\n",
       "    }\n",
       "\n",
       "    .dataframe thead th {\n",
       "        text-align: right;\n",
       "    }\n",
       "</style>\n",
       "<table border=\"1\" class=\"dataframe\">\n",
       "  <thead>\n",
       "    <tr style=\"text-align: right;\">\n",
       "      <th></th>\n",
       "      <th>annonymous_id</th>\n",
       "      <th>path</th>\n",
       "      <th>md5</th>\n",
       "      <th>ontology_id</th>\n",
       "      <th>source</th>\n",
       "      <th>class</th>\n",
       "      <th>usage</th>\n",
       "    </tr>\n",
       "  </thead>\n",
       "  <tbody>\n",
       "    <tr>\n",
       "      <th>292768</th>\n",
       "      <td>3cca0fdf-a9ed-4097-8ba5-867cd99879e1.png</td>\n",
       "      <td>lines_fixed/a02/a02-000/a02-000-01.png</td>\n",
       "      <td>e83e1ddda8e55dc08cbd02bfe6885ebf</td>\n",
       "      <td>70</td>\n",
       "      <td>iam-lines_fixed</td>\n",
       "      <td>21</td>\n",
       "      <td>test</td>\n",
       "    </tr>\n",
       "    <tr>\n",
       "      <th>292769</th>\n",
       "      <td>8d0eb6c9-0620-4542-b6a8-f25ac359ee4b.png</td>\n",
       "      <td>lines_fixed/a02/a02-000/a02-000-02.png</td>\n",
       "      <td>93b4f0c8f329312c41b5aded5ab9b7a0</td>\n",
       "      <td>70</td>\n",
       "      <td>iam-lines_fixed</td>\n",
       "      <td>21</td>\n",
       "      <td>test</td>\n",
       "    </tr>\n",
       "    <tr>\n",
       "      <th>292770</th>\n",
       "      <td>c25c2175-7836-4e68-bbd3-8c7a87eb68f0.png</td>\n",
       "      <td>lines_fixed/a02/a02-000/a02-000-03.png</td>\n",
       "      <td>9ad9360efeb7febdd9cf6e9d35d594ab</td>\n",
       "      <td>70</td>\n",
       "      <td>iam-lines_fixed</td>\n",
       "      <td>21</td>\n",
       "      <td>test</td>\n",
       "    </tr>\n",
       "    <tr>\n",
       "      <th>292771</th>\n",
       "      <td>3cf81655-8c4a-4c72-88be-1d3c541a8554.png</td>\n",
       "      <td>lines_fixed/a02/a02-000/a02-000-04.png</td>\n",
       "      <td>2b3517e6506c6a79e64b02e6599db1c6</td>\n",
       "      <td>70</td>\n",
       "      <td>iam-lines_fixed</td>\n",
       "      <td>21</td>\n",
       "      <td>test</td>\n",
       "    </tr>\n",
       "    <tr>\n",
       "      <th>292772</th>\n",
       "      <td>f63ece54-e80f-460d-8852-296aa2443221.png</td>\n",
       "      <td>lines_fixed/a02/a02-000/a02-000-05.png</td>\n",
       "      <td>ebc5c6cf74dd42f3d4ffea75b2b22fda</td>\n",
       "      <td>70</td>\n",
       "      <td>iam-lines_fixed</td>\n",
       "      <td>21</td>\n",
       "      <td>test</td>\n",
       "    </tr>\n",
       "  </tbody>\n",
       "</table>\n",
       "</div>"
      ],
      "text/plain": [
       "                                   annonymous_id  \\\n",
       "292768  3cca0fdf-a9ed-4097-8ba5-867cd99879e1.png   \n",
       "292769  8d0eb6c9-0620-4542-b6a8-f25ac359ee4b.png   \n",
       "292770  c25c2175-7836-4e68-bbd3-8c7a87eb68f0.png   \n",
       "292771  3cf81655-8c4a-4c72-88be-1d3c541a8554.png   \n",
       "292772  f63ece54-e80f-460d-8852-296aa2443221.png   \n",
       "\n",
       "                                          path  \\\n",
       "292768  lines_fixed/a02/a02-000/a02-000-01.png   \n",
       "292769  lines_fixed/a02/a02-000/a02-000-02.png   \n",
       "292770  lines_fixed/a02/a02-000/a02-000-03.png   \n",
       "292771  lines_fixed/a02/a02-000/a02-000-04.png   \n",
       "292772  lines_fixed/a02/a02-000/a02-000-05.png   \n",
       "\n",
       "                                     md5  ontology_id           source  class  \\\n",
       "292768  e83e1ddda8e55dc08cbd02bfe6885ebf           70  iam-lines_fixed     21   \n",
       "292769  93b4f0c8f329312c41b5aded5ab9b7a0           70  iam-lines_fixed     21   \n",
       "292770  9ad9360efeb7febdd9cf6e9d35d594ab           70  iam-lines_fixed     21   \n",
       "292771  2b3517e6506c6a79e64b02e6599db1c6           70  iam-lines_fixed     21   \n",
       "292772  ebc5c6cf74dd42f3d4ffea75b2b22fda           70  iam-lines_fixed     21   \n",
       "\n",
       "       usage  \n",
       "292768  test  \n",
       "292769  test  \n",
       "292770  test  \n",
       "292771  test  \n",
       "292772  test  "
      ]
     },
     "execution_count": 5,
     "metadata": {},
     "output_type": "execute_result"
    }
   ],
   "source": [
    "df=pd.read_csv(f'{DATA_FOLDER}/{TRAINING_DATA_FILE}')\n",
    "df_train = df.loc[df[\"path\"].str.startswith('lines_fixed/')]\n",
    "print(len(df_train))\n",
    "df.astype({'ontology_id': 'int'})\n",
    "df_train.head()"
   ]
  },
  {
   "cell_type": "code",
   "execution_count": 6,
   "metadata": {},
   "outputs": [],
   "source": [
    "df_train = df_train.loc[df[\"ontology_id\"] < MAX_WRITER_ID]"
   ]
  },
  {
   "cell_type": "code",
   "execution_count": 7,
   "metadata": {},
   "outputs": [],
   "source": [
    "target_files = []\n",
    "target_labels = []\n",
    "for ri in range(len(df_train)):\n",
    "   row = df_train.iloc[ri]\n",
    "   filename = row['path']\n",
    "   fullpath = f'/{DATA_FOLDER}/{filename}'\n",
    "   target_files.append(fullpath)\n",
    "   target_labels.append(row['ontology_id'])\n",
    "img_files = np.asarray(target_files)\n",
    "img_labels = np.asarray(target_labels)"
   ]
  },
  {
   "cell_type": "code",
   "execution_count": 8,
   "metadata": {},
   "outputs": [
    {
     "data": {
      "text/plain": [
       "(3843, (3843,), (3843,))"
      ]
     },
     "execution_count": 8,
     "metadata": {},
     "output_type": "execute_result"
    }
   ],
   "source": [
    "len(df_train),img_labels.shape, img_files.shape"
   ]
  },
  {
   "cell_type": "code",
   "execution_count": 9,
   "metadata": {},
   "outputs": [
    {
     "data": {
      "text/plain": [
       "array([ 0,  1,  2,  3,  4,  5,  6,  7,  8,  9, 10, 11, 12, 13, 14, 15, 16,\n",
       "       17, 18, 19, 20, 21, 22, 23, 24, 25, 26, 27, 28, 29, 30, 31, 32, 33,\n",
       "       34, 35, 36, 37, 38, 39, 40, 41, 42, 43, 44, 45, 46, 47, 48, 49])"
      ]
     },
     "execution_count": 9,
     "metadata": {},
     "output_type": "execute_result"
    }
   ],
   "source": [
    "num_classes = max(img_labels) + 1\n",
    "np.unique(img_labels)"
   ]
  },
  {
   "cell_type": "code",
   "execution_count": 10,
   "metadata": {},
   "outputs": [
    {
     "data": {
      "image/png": "[encoded data removed]",
      "text/plain": [
       "<Figure size 720x720 with 1 Axes>"
      ]
     },
     "metadata": {
      "needs_background": "light"
     },
     "output_type": "display_data"
    },
    {
     "data": {
      "image/png": "[encoded data removed]",
      "text/plain": [
       "<Figure size 720x720 with 1 Axes>"
      ]
     },
     "metadata": {
      "needs_background": "light"
     },
     "output_type": "display_data"
    },
    {
     "data": {
      "image/png": "[encoded data removed]",
      "text/plain": [
       "<Figure size 720x720 with 1 Axes>"
      ]
     },
     "metadata": {
      "needs_background": "light"
     },
     "output_type": "display_data"
    }
   ],
   "source": [
    "for filename in img_files[:3]:\n",
    "    img=mpimg.imread(filename)\n",
    "    plt.figure(figsize=(10,10))\n",
    "    plt.imshow(img, cmap ='gray')"
   ]
  },
  {
   "cell_type": "code",
   "execution_count": 11,
   "metadata": {},
   "outputs": [],
   "source": [
    "from sklearn.model_selection import train_test_split\n",
    "\n",
    "train_files, test_files, train_labels, test_labels = train_test_split(\n",
    "        img_files, img_labels, train_size=0.75, random_state=22, shuffle=True, stratify=img_labels)"
   ]
  },
  {
   "cell_type": "code",
   "execution_count": 12,
   "metadata": {},
   "outputs": [
    {
     "data": {
      "text/plain": [
       "(array([ 0,  1,  2,  3,  4,  5,  6,  7,  8,  9, 10, 11, 12, 13, 14, 15, 16,\n",
       "        17, 18, 19, 20, 21, 22, 23, 24, 25, 26, 27, 28, 29, 30, 31, 32, 33,\n",
       "        34, 35, 36, 37, 38, 39, 40, 41, 42, 43, 44, 45, 46, 47, 48, 49]),\n",
       " array([ 0,  1,  2,  3,  4,  5,  6,  7,  8,  9, 10, 11, 12, 13, 14, 15, 16,\n",
       "        17, 18, 19, 20, 21, 22, 23, 24, 25, 26, 27, 28, 29, 30, 31, 32, 33,\n",
       "        34, 35, 36, 37, 38, 39, 40, 41, 42, 43, 44, 45, 46, 47, 48, 49]),\n",
       " (2882,),\n",
       " (961,))"
      ]
     },
     "execution_count": 12,
     "metadata": {},
     "output_type": "execute_result"
    }
   ],
   "source": [
    "np.unique(test_labels),np.unique(train_labels),train_files.shape,test_files.shape"
   ]
  },
  {
   "cell_type": "code",
   "execution_count": 13,
   "metadata": {},
   "outputs": [
    {
     "name": "stdout",
     "output_type": "stream",
     "text": [
      "(2882,) (480,) (481,)\n",
      "(2882,) (480,) (481,)\n"
     ]
    }
   ],
   "source": [
    "validation_files, test_files, validation_labels, test_labels = train_test_split(\n",
    "        test_files, test_labels, train_size=0.5, random_state=22, shuffle=True)\n",
    "\n",
    "print(train_files.shape, validation_files.shape, test_files.shape)\n",
    "print(train_labels.shape, validation_labels.shape, test_labels.shape)"
   ]
  },
  {
   "cell_type": "code",
   "execution_count": 14,
   "metadata": {},
   "outputs": [],
   "source": [
    "from data_prep import prep_sample\n",
    "\n",
    "# # Now create generators for randomly cropping 113x113 patches from these images\n",
    "\n",
    "batch_size = 16\n",
    "\n",
    "# Start with train generator shared in the class and add image augmentations\n",
    "def generate_data(samples, target_files,  batch_size=batch_size, factor = 0.1 ):\n",
    "    num_samples = len(samples)\n",
    "    from sklearn.utils import shuffle\n",
    "    while 1: # Loop forever so the generator never terminates\n",
    "        for offset in range(0, num_samples, batch_size):\n",
    "            batch_samples = samples[offset:offset+batch_size]\n",
    "            batch_targets = target_files[offset:offset+batch_size]\n",
    "\n",
    "            images = []\n",
    "            targets = []\n",
    "            for i in range(len(batch_samples)):\n",
    "                batch_sample = batch_samples[i]\n",
    "                batch_target = batch_targets[i]\n",
    "                prep_sample(batch_sample, batch_target, images, targets, factor=factor)\n",
    "\n",
    "            # trim image to only see section with road\n",
    "            X_train = np.array(images)\n",
    "            y_train = np.array(targets)\n",
    "\n",
    "            #reshape X_train for feeding in later\n",
    "            X_train = X_train.reshape(X_train.shape[0], 113, 113, 1)\n",
    "            #convert to float and normalize\n",
    "            X_train = X_train.astype('float32')\n",
    "            X_train /= 255\n",
    "            \n",
    "            X_train, y_train=  shuffle(X_train, y_train)\n",
    "\n",
    "            #One hot encode y\n",
    "            y_train = to_categorical(y_train, num_classes)\n",
    "\n",
    "            yield X_train, y_train\n",
    "            "
   ]
  },
  {
   "cell_type": "code",
   "execution_count": 15,
   "metadata": {},
   "outputs": [],
   "source": [
    "import tensorflow as tf\n",
    "dropout_rate = 0.1\n",
    "\n",
    "class CustomSchedule(LearningRateSchedule):\n",
    "  def __init__(self, d_model=50, warmup_steps=1000):\n",
    "    super(CustomSchedule, self).__init__()\n",
    "    \n",
    "    self.d_model = d_model\n",
    "    self.d_model = tf.cast(self.d_model, tf.float32)\n",
    "\n",
    "    self.warmup_steps = warmup_steps\n",
    "    \n",
    "  def __call__(self, step):\n",
    "    arg1 = tf.math.rsqrt(step)\n",
    "    arg2 = step * (self.warmup_steps ** -1.5)\n",
    "    \n",
    "    return tf.math.rsqrt(self.d_model) * tf.math.minimum(arg1, arg2)"
   ]
  },
  {
   "cell_type": "code",
   "execution_count": 16,
   "metadata": {},
   "outputs": [],
   "source": [
    "# Generate data for training and validation\n",
    "train_generator = generate_data(train_files, train_labels, batch_size=batch_size, factor = 0.3)\n",
    "validation_generator = generate_data(validation_files, validation_labels, batch_size=batch_size, factor = 0.3)\n",
    "test_generator = generate_data(test_files, test_labels, batch_size=batch_size, factor = 0.1)"
   ]
  },
  {
   "cell_type": "code",
   "execution_count": 17,
   "metadata": {},
   "outputs": [
    {
     "name": "stdout",
     "output_type": "stream",
     "text": [
      "Model: \"sequential\"\n",
      "_________________________________________________________________\n",
      "Layer (type)                 Output Shape              Param #   \n",
      "=================================================================\n",
      "zero_padding2d (ZeroPadding2 (None, 115, 115, 1)       0         \n",
      "_________________________________________________________________\n",
      "conv1 (Conv2D)               (None, 58, 58, 32)        832       \n",
      "_________________________________________________________________\n",
      "activation (Activation)      (None, 58, 58, 32)        0         \n",
      "_________________________________________________________________\n",
      "pool1 (MaxPooling2D)         (None, 29, 29, 32)        0         \n",
      "_________________________________________________________________\n",
      "conv2 (Conv2D)               (None, 29, 29, 64)        18496     \n",
      "_________________________________________________________________\n",
      "activation_1 (Activation)    (None, 29, 29, 64)        0         \n",
      "_________________________________________________________________\n",
      "pool2 (MaxPooling2D)         (None, 14, 14, 64)        0         \n",
      "_________________________________________________________________\n",
      "conv3 (Conv2D)               (None, 14, 14, 128)       73856     \n",
      "_________________________________________________________________\n",
      "activation_2 (Activation)    (None, 14, 14, 128)       0         \n",
      "_________________________________________________________________\n",
      "pool3 (MaxPooling2D)         (None, 7, 7, 128)         0         \n",
      "_________________________________________________________________\n",
      "flatten (Flatten)            (None, 6272)              0         \n",
      "_________________________________________________________________\n",
      "dropout (Dropout)            (None, 6272)              0         \n",
      "_________________________________________________________________\n",
      "dense1 (Dense)               (None, 512)               3211776   \n",
      "_________________________________________________________________\n",
      "activation_3 (Activation)    (None, 512)               0         \n",
      "_________________________________________________________________\n",
      "dropout_1 (Dropout)          (None, 512)               0         \n",
      "_________________________________________________________________\n",
      "dense2 (Dense)               (None, 256)               131328    \n",
      "_________________________________________________________________\n",
      "activation_4 (Activation)    (None, 256)               0         \n",
      "_________________________________________________________________\n",
      "dropout_2 (Dropout)          (None, 256)               0         \n",
      "_________________________________________________________________\n",
      "output (Dense)               (None, 50)                12850     \n",
      "_________________________________________________________________\n",
      "activation_5 (Activation)    (None, 50)                0         \n",
      "=================================================================\n",
      "Total params: 3,449,138\n",
      "Trainable params: 3,449,138\n",
      "Non-trainable params: 0\n",
      "_________________________________________________________________\n"
     ]
    }
   ],
   "source": [
    "model = build_model(num_classes)\n",
    "model.compile(loss='categorical_crossentropy', optimizer=Adam(CustomSchedule()), metrics=['accuracy'])\n",
    "model.summary()"
   ]
  },
  {
   "cell_type": "code",
   "execution_count": null,
   "metadata": {},
   "outputs": [
    {
     "name": "stdout",
     "output_type": "stream",
     "text": [
      "WARNING:tensorflow:From <ipython-input-18-03bcb1561f21>:26: Model.fit_generator (from tensorflow.python.keras.engine.training) is deprecated and will be removed in a future version.\n",
      "Instructions for updating:\n",
      "Please use Model.fit, which supports generators.\n",
      "Epoch 1/8\n",
      " 151/3268 [>.............................] - ETA: 3:07:19 - loss: 3.6303 - accuracy: 0.2001"
     ]
    }
   ],
   "source": [
    "# Train the model \n",
    "\n",
    "nb_epoch = 8\n",
    "\n",
    "samples_per_epoch =3268\n",
    "nb_val_samples = 842\n",
    "\n",
    "#model.load_weights('/opt/data/writer_id_check/points/check-08-1.7336.hdf5')\n",
    "\n",
    "#save every model using Keras checkpoint\n",
    "from keras.callbacks import ModelCheckpoint\n",
    "filepath=\"/opt/data/writer_id_check/points/check-2-{epoch:02d}-{val_loss:.4f}.hdf5\"\n",
    "checkpoint = ModelCheckpoint(filepath= filepath, save_weights_only=True, save_best_only=False)\n",
    "callbacks_list = [checkpoint]\n",
    "\n",
    "#steps_per_epoch=None, epochs=1, verbose=1, callbacks=None,\n",
    "#    validation_data=None, validation_steps=None, validation_freq=1,\n",
    "#    class_weight=None, max_queue_size=10, workers=1, use_multiprocessing=False,\n",
    "#    shuffle=True, initial_epoch=0\n",
    "#Model fit generator\n",
    "history_object = model.fit_generator(train_generator, \n",
    "                                     steps_per_epoch = samples_per_epoch,\n",
    "                                     validation_data =validation_generator,\n",
    "                                     validation_steps =nb_val_samples, \n",
    "                                     epochs =nb_epoch, \n",
    "                                     callbacks =callbacks_list)"
   ]
  },
  {
   "cell_type": "code",
   "execution_count": 220,
   "metadata": {},
   "outputs": [
    {
     "name": "stdout",
     "output_type": "stream",
     "text": [
      "Accuracy =  0.9608365297317505\n"
     ]
    }
   ],
   "source": [
    "# Load save model and use for prediction on test set\n",
    "model.load_weights('checkpoint2/check-08-0.1399.hdf5')\n",
    "scores = model.evaluate_generator(test_generator,842) \n",
    "print(\"Accuracy = \", scores[1])"
   ]
  }
 ],
 "metadata": {
  "kernelspec": {
   "display_name": "Python 3",
   "language": "python",
   "name": "python3"
  },
  "language_info": {
   "codemirror_mode": {
    "name": "ipython",
    "version": 3
   },
   "file_extension": ".py",
   "mimetype": "text/x-python",
   "name": "python",
   "nbconvert_exporter": "python",
   "pygments_lexer": "ipython3",
   "version": "3.7.1"
  }
 },
 "nbformat": 4,
 "nbformat_minor": 4
}
