{
 "cells": [
  {
   "cell_type": "markdown",
   "metadata": {},
   "source": [
    "# Evaluation of Images of Lines from Writer\n",
    "\n",
    "1. Set the DATA_FOLDER\n",
    "2. Set the OUTPUT_FILE_NAME\n",
    "3. Set the CUDA properties\n",
    "4. Run the jupyter cells.\n",
    "\n",
    "Output is in a file called OUTPUT_FILE_NAME in the DATA_FOLDER"
   ]
  },
  {
   "cell_type": "code",
   "execution_count": 3,
   "metadata": {},
   "outputs": [],
   "source": [
    "DATA_FOLDER='../data/sample_writing_examples'\n",
    "OUTPUT_FILE_NAME='baseline.txt'"
   ]
  },
  {
   "cell_type": "code",
   "execution_count": 1,
   "metadata": {},
   "outputs": [],
   "source": [
    "import os\n",
    "os.environ[\"CUDA_DEVICE_ORDER\"] = \"PCI_BUS_ID\" \n",
    "os.environ[\"CUDA_VISIBLE_DEVICES\"]=\"1\"; "
   ]
  },
  {
   "cell_type": "code",
   "execution_count": 11,
   "metadata": {},
   "outputs": [],
   "source": [
    "from __future__ import division\n",
    "import numpy as np\n",
    "import os\n",
    "from keras.utils import to_categorical, np_utils\n",
    "import pandas as pd"
   ]
  },
  {
   "cell_type": "code",
   "execution_count": 6,
   "metadata": {},
   "outputs": [],
   "source": [
    "from model import build_model\n",
    "num_classes = 50\n",
    "model = build_model(num_classes)"
   ]
  },
  {
   "cell_type": "code",
   "execution_count": 7,
   "metadata": {},
   "outputs": [],
   "source": [
    "model.load_weights('writer_id_checkpoint.hdf5')"
   ]
  },
  {
   "cell_type": "code",
   "execution_count": 14,
   "metadata": {},
   "outputs": [],
   "source": [
    "from data_prep import prep_sample\n",
    "\n",
    "# get slices of normalized image\n",
    "def generate_predict_data(filename):\n",
    "    images = []\n",
    "    targets = []\n",
    "    prep_sample(filename, 0, images, targets)\n",
    "\n",
    "    # trim image slices to only see section with road\n",
    "    image_arrays = np.array(images)\n",
    "\n",
    "    #reshape image_arrays for feeding in later\n",
    "    image_arrays = image_arrays.reshape(image_arrays.shape[0], 113, 113, 1)\n",
    "    #convert to float and normalize\n",
    "    image_arrays = image_arrays.astype('float32')\n",
    "    image_arrays /= 255\n",
    "            \n",
    "    return image_arrays"
   ]
  },
  {
   "cell_type": "code",
   "execution_count": null,
   "metadata": {},
   "outputs": [],
   "source": [
    "from scipy import stats\n",
    "    \n",
    "folders = [DATA_FOLDER]\n",
    "for folder in folders:\n",
    "    with open(os.path.join(folder,OUTPUT_FILE_NAME),'w') as fp:\n",
    "        print(folder)\n",
    "        for root, dirs, files in os.walk(folder, topdown=False):\n",
    "            for file in files:\n",
    "                if file.endswith('png') or file.endswith('jpg'):\n",
    "                    predictions = model.predict_generator(generate_predict_data(os.path.join(root, file)))\n",
    "                    #print (predictions)\n",
    "                    best = stats.mode(np.argmax(predictions,axis=1))[0][0]\n",
    "                    fp.write(f'{file},{best}\\n')"
   ]
  }
 ],
 "metadata": {
  "kernelspec": {
   "display_name": "Python 3",
   "language": "python",
   "name": "python3"
  },
  "language_info": {
   "codemirror_mode": {
    "name": "ipython",
    "version": 3
   },
   "file_extension": ".py",
   "mimetype": "text/x-python",
   "name": "python",
   "nbconvert_exporter": "python",
   "pygments_lexer": "ipython3",
   "version": "3.7.1"
  }
 },
 "nbformat": 4,
 "nbformat_minor": 4
}
